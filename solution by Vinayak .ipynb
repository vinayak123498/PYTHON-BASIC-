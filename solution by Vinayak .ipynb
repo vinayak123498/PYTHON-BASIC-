{
 "cells": [
  {
   "cell_type": "code",
   "execution_count": null,
   "id": "b363b4ec-28ff-4649-83a7-5f0cfe3b6b06",
   "metadata": {},
   "outputs": [],
   "source": [
    "\n",
    "# Answer 1- Python is a programming language which is write on computer .\n",
    "# It's like a instruction given to a computer to produce output.\n",
    "\n",
    "\n",
    "# Popularity \n",
    "# 1 easy to read.\n",
    "# 2 useful for beginner.\n",
    "# 3 useful for many things .\n",
    "# 4 huge population of  people use this in their profession.\n",
    "# 5 it's free  and open space."
   ]
  },
  {
   "cell_type": "code",
   "execution_count": 2,
   "id": "f582e2d8-ef9e-467f-aa27-e38124e314e0",
   "metadata": {},
   "outputs": [],
   "source": [
    "# Answer 2 = interpreter is a tool which used to read the code that you wrote and it give instruction to the computer to do next .\n",
    "# It translate  the code in the sense that computer can understand and give a correct result.\n"
   ]
  },
  {
   "cell_type": "code",
   "execution_count": 4,
   "id": "9ca59a5b-0725-4c06-a250-358b340e0949",
   "metadata": {},
   "outputs": [
    {
     "data": {
      "text/plain": [
       "'\\nAnswer 3=\\nPres defined keywords is a such words which python already kmows .\\nIt cannot be used as a variables. Each words contain important word meaning.\\nSuch words is already reserved for specit[fic purpose.\\n\\nKEYWORDS= if, else, for,while,def,return,import,class,true,false,none,try, except,in,is.\\n'"
      ]
     },
     "execution_count": 4,
     "metadata": {},
     "output_type": "execute_result"
    }
   ],
   "source": [
    " \"\"\"\n",
    " Answer 3=\n",
    "Pres defined keywords is a such words which python already kmows .\n",
    "It cannot be used as a variables. Each words contain important word meaning.\n",
    "Such words is already reserved for specit[fic purpose.\n",
    "\n",
    " KEYWORDS= if, else, for,while,def,return,import,class,true,false,none,try, except,in,is.\n",
    " \"\"\"\n"
   ]
  },
  {
   "cell_type": "code",
   "execution_count": 2,
   "id": "0538399c-58ec-4e35-a96b-77a4757ceab5",
   "metadata": {},
   "outputs": [],
   "source": [
    "# Answer 4= No, absolutly not .keywords have their own meaning and have their own specific and particular purpose to used ."
   ]
  },
  {
   "cell_type": "code",
   "execution_count": 3,
   "id": "3e20759b-a1e8-4984-996b-dfd904d9f29d",
   "metadata": {},
   "outputs": [],
   "source": [
    "# Answer 5= Mutability is a something which say wheather things which is created is eligible to change or not .changes deemed to be mean ADDING, SUBRACTING,AND REMOVING.\n",
    "# Mutable means can be change and immutable  means cannot be change."
   ]
  },
  {
   "cell_type": "code",
   "execution_count": 5,
   "id": "4a53eecb-950f-4545-81b9-c7a34015d658",
   "metadata": {},
   "outputs": [
    {
     "data": {
      "text/plain": [
       "\"\\nAnswer=6\\nLists  are mutable because they are flexible, changing nature according to circumstance.\\nIt's can be add,update,subtract, and remove.\\n\\nTuples are immutable because they are inflexible ,inchanging nature according to circunstance.\\nIt's fixed , nor addeble, subtractble, and removable.\\n\""
      ]
     },
     "execution_count": 5,
     "metadata": {},
     "output_type": "execute_result"
    }
   ],
   "source": [
    "\n",
    "\"\"\"\n",
    "Answer=6\n",
    "Lists  are mutable because they are flexible, changing nature according to circumstance.\n",
    "It's can be add,update,subtract, and remove.\n",
    "\n",
    "Tuples are immutable because they are inflexible ,inchanging nature according to circunstance.\n",
    "It's fixed , nor addeble, subtractble, and removable.\n",
    "\"\"\""
   ]
  },
  {
   "cell_type": "code",
   "execution_count": 20,
   "id": "9087f679-2c38-45cb-8963-dacc5fd16c52",
   "metadata": {},
   "outputs": [
    {
     "name": "stdout",
     "output_type": "stream",
     "text": [
      "True\n"
     ]
    }
   ],
   "source": [
    "# Answer 7= \"==\" means in spite of different object ,if all value is same . \n",
    "A= (1,2,3)\n",
    "B=(1,2,3)\n",
    "print(A==B)"
   ]
  },
  {
   "cell_type": "code",
   "execution_count": 21,
   "id": "807e9b1e-2f4d-443c-ad99-d73e1ee10cbf",
   "metadata": {},
   "outputs": [
    {
     "name": "stdout",
     "output_type": "stream",
     "text": [
      "False\n"
     ]
    }
   ],
   "source": [
    "# Answer 7= \"is\" means that it check wheather two varible are exact same to the same object.\n",
    "A=(1,2,3)\n",
    "B=(1,2,3)\n",
    "print(A is B)"
   ]
  },
  {
   "cell_type": "code",
   "execution_count": 22,
   "id": "23fae8bb-64e0-4833-8fa8-667c6172e9e2",
   "metadata": {},
   "outputs": [],
   "source": [
    "# Answer 8= Logical operator means contain multiple condition . On the basis of condition it give true and false.\n",
    "# There are three main operators = and,or,not.\n",
    "# and= deliver true ,both are true,or =deliver true if at least one is true, not=both are reverse ,that's false."
   ]
  },
  {
   "cell_type": "code",
   "execution_count": 2,
   "id": "8ac05e32-d872-4822-8714-6ad38d4a2e23",
   "metadata": {},
   "outputs": [],
   "source": [
    "# Type casting means converting the variable of one data type to anoyher data type .Example like from string to integer ,or integer to float.\n",
    "# two type of type casting .\n",
    "# Implicit type casting= Automatically convert the one data type to another data type without user involvement.\n",
    "# Explicit type casting= Convert the variables by using build in function like: int(),flaot(),str(),bool(),list(),tuple(),set().\n"
   ]
  },
  {
   "cell_type": "code",
   "execution_count": 3,
   "id": "2471a0c6-4781-49eb-b308-0f737cdca489",
   "metadata": {},
   "outputs": [
    {
     "data": {
      "text/plain": [
       "\"\\nAnswer 10=\\nImplicit type casting :\\n1 Convert one data type to another data type without user intervention .\\n2 It's a automatic .\\n3 No involvement of direct control.\\n4 It's always logical and safe.\\n\\nExplicit type casting\\n1 Convert one data type to another data type by using fuction.\\n2 It's a non automatic.\\n3  Involvement of full control.\\n4  It's raise a lot of errors.\\n\\n\""
      ]
     },
     "execution_count": 3,
     "metadata": {},
     "output_type": "execute_result"
    }
   ],
   "source": [
    "\"\"\"\n",
    "Answer 10=\n",
    "Implicit type casting :\n",
    "1 Convert one data type to another data type without user intervention .\n",
    "2 It's a automatic .\n",
    "3 No involvement of direct control.\n",
    "4 It's always logical and safe.\n",
    "\n",
    "Explicit type casting\n",
    "1 Convert one data type to another data type by using fuction.\n",
    "2 It's a non automatic.\n",
    "3  Involvement of full control.\n",
    "4  It's raise a lot of errors.\n",
    "\n",
    "\"\"\"\n"
   ]
  },
  {
   "cell_type": "code",
   "execution_count": 8,
   "id": "25e5a4e6-8ae5-4a4f-9ed5-b824d849eb40",
   "metadata": {},
   "outputs": [],
   "source": [
    "# Answer 11\n",
    "# Conitional statement means statement used to make decicion on your entered python on the basis of condition may be true and false.\n",
    "# It help in making excueting the programme on the basis of condition is true and false. \n",
    "#  Type of conditional statement:1-If statement,2-Elif statment,3-else statement.\n",
    "                                 \n",
    "                        "
   ]
  },
  {
   "cell_type": "code",
   "execution_count": 13,
   "id": "acfb0482-8d52-422f-bd9a-365af47f8e54",
   "metadata": {},
   "outputs": [
    {
     "data": {
      "text/plain": [
       "'\\nAnswer 12;- Process of working of python\\n           1= Python checks the If condition.\\n           2=If condition is true ,then it will block the run and rest get skipped.\\n           3=If condition is false , then it will check the elif condition,in order.\\n           4=If  elif condition is true ,then it will block the run and rest get skipprd.\\n           5= If none are true,then it will block euns which run in present time. \\n   \\n           EXAMPLE: \\n           score=73\\n           if score>=90:\\n           print(\"Grade;A\")\\n           elif score>=80:\\n           print(\"GRADE;B\")\\n           elif score>=70:\\n           print(\"GRADE;C\")\\n           else:\\n           print(\"GRADE:D\")\\n\\n'"
      ]
     },
     "execution_count": 13,
     "metadata": {},
     "output_type": "execute_result"
    }
   ],
   "source": [
    "\"\"\"\n",
    "Answer 12;- Process of working of python\n",
    "           1= Python checks the If condition.\n",
    "           2=If condition is true ,then it will block the run and rest get skipped.\n",
    "           3=If condition is false , then it will check the elif condition,in order.\n",
    "           4=If  elif condition is true ,then it will block the run and rest get skipprd.\n",
    "           5= If none are true,then it will block euns which run in present time. \n",
    "   \n",
    "           EXAMPLE: \n",
    "           score=73\n",
    "           if score>=90:\n",
    "           print(\"Grade;A\")\n",
    "           elif score>=80:\n",
    "           print(\"GRADE;B\")\n",
    "           elif score>=70:\n",
    "           print(\"GRADE;C\")\n",
    "           else:\n",
    "           print(\"GRADE:D\")\n",
    "\n",
    "\"\"\""
   ]
  },
  {
   "cell_type": "code",
   "execution_count": 14,
   "id": "b2b6c019-0e96-472b-943b-30f4a07fb3f9",
   "metadata": {},
   "outputs": [
    {
     "data": {
      "text/plain": [
       "\" \\nAnswer=13\\nFor loop and while loop in python have a lot of block of code,howerever ,they serve different purpose for different situation.\\n\\n For loop ,it consist that user must in advance know how many exact loop they want to solve problem.Exactly ,it's consist 5 times of loop . Commonlly used loops are \\n 1=Lists, 2=Strings,3=Tuples, 4=Rangers, 5=Files\\n While loop ,it consist that user can use any desire times of loop until or unless condition gets false .It can go upto infinite times  of loops.\\n \""
      ]
     },
     "execution_count": 14,
     "metadata": {},
     "output_type": "execute_result"
    }
   ],
   "source": [
    "\"\"\" \n",
    "Answer=13\n",
    "For loop and while loop in python have a lot of block of code,howerever ,they serve different purpose for different situation.\n",
    "\n",
    " For loop ,it consist that user must in advance know how many exact loop they want to solve problem.Exactly ,it's consist 5 times of loop . Commonlly used loops are \n",
    " 1=Lists, 2=Strings,3=Tuples, 4=Rangers, 5=Files\n",
    " While loop ,it consist that user can use any desire times of loop until or unless condition gets false .It can go upto infinite times  of loops.\n",
    " \"\"\""
   ]
  },
  {
   "cell_type": "code",
   "execution_count": 15,
   "id": "07f65ee5-a931-461a-8060-6de4338e9daf",
   "metadata": {},
   "outputs": [],
   "source": [
    "# Answer 14= A while loop is more appropriate than for loop because \n",
    "# 1:Infinite number of times of loops consist.\n",
    "# 2: It move upto condition gets met \n",
    "# 3: Number of iterations is based on logic,not on a fixed count.\n",
    "\n",
    "# for loop is inappropriate because it consist fixed number of times of loop and it will end upto user not enter correct code."
   ]
  },
  {
   "cell_type": "markdown",
   "id": "73a123ba-b213-478e-b544-61b178d8452f",
   "metadata": {},
   "source": [
    "Practical Questions\n"
   ]
  },
  {
   "cell_type": "code",
   "execution_count": 2,
   "id": "736115fc-e863-4bd3-9274-58276c74d8bb",
   "metadata": {},
   "outputs": [
    {
     "name": "stdout",
     "output_type": "stream",
     "text": [
      "Hello World\n"
     ]
    }
   ],
   "source": [
    "# Answer=1\n",
    "\n",
    "print(\"Hello World\")"
   ]
  },
  {
   "cell_type": "code",
   "execution_count": 3,
   "id": "38d4052b-fe2f-4276-b58f-f554532105e6",
   "metadata": {},
   "outputs": [
    {
     "name": "stdout",
     "output_type": "stream",
     "text": [
      "Vinayak Mukkananthu Prasad\n",
      "20\n"
     ]
    }
   ],
   "source": [
    "# Answer=2\n",
    "\n",
    "name=\"Vinayak Mukkananthu Prasad\"\n",
    "age=20\n",
    "print(name)\n",
    "print(age)"
   ]
  },
  {
   "cell_type": "code",
   "execution_count": 3,
   "id": "f3506b20-b2c4-499f-af45-77461d03a727",
   "metadata": {},
   "outputs": [
    {
     "name": "stdout",
     "output_type": "stream",
     "text": [
      "\n",
      "Here is a list of the Python keywords.  Enter any keyword to get more help.\n",
      "\n",
      "False               class               from                or\n",
      "None                continue            global              pass\n",
      "True                def                 if                  raise\n",
      "and                 del                 import              return\n",
      "as                  elif                in                  try\n",
      "assert              else                is                  while\n",
      "async               except              lambda              with\n",
      "await               finally             nonlocal            yield\n",
      "break               for                 not                 \n",
      "\n"
     ]
    }
   ],
   "source": [
    "#Answer 3\n",
    "help(\"keywords\") \n"
   ]
  },
  {
   "cell_type": "code",
   "execution_count": 12,
   "id": "b628a38b-4cf5-4da9-97e9-1c443fbf8880",
   "metadata": {},
   "outputs": [
    {
     "name": "stdout",
     "output_type": "stream",
     "text": [
      "yes,'global'is a python keyword.\n"
     ]
    }
   ],
   "source": [
    "#Answer 4 \n",
    "import keyword\n",
    "NAAM=\"global\"\n",
    "if NAAM in keyword.kwlist:\n",
    "    print(f\"yes,'{NAAM}'is a python keyword.\")\n",
    "else:\n",
    "    print(f\"no,'{NAAM}' is not a python keyword.\")"
   ]
  },
  {
   "cell_type": "code",
   "execution_count": 1,
   "id": "7e756447-16e2-49b0-8f7e-4ec4df89e36b",
   "metadata": {},
   "outputs": [
    {
     "name": "stdout",
     "output_type": "stream",
     "text": [
      "['chicken', 345, 987.555, False, 'mutton']\n"
     ]
    }
   ],
   "source": [
    "# Answer 5   \n",
    "# List data type is the  which containthe ordered and changeable or mutable elements. It starts with [].\n",
    "DDDD=[\"chicken\",345,987.555,False]\n",
    "DDDD.append(\"mutton\")\n",
    "print(DDDD)\n",
    "\n",
    "\n",
    "\n",
    "\n"
   ]
  },
  {
   "cell_type": "code",
   "execution_count": 15,
   "id": "1e16286b-2fcd-4d8e-81e2-852f5219839b",
   "metadata": {},
   "outputs": [
    {
     "name": "stdout",
     "output_type": "stream",
     "text": [
      "('ramaaaaa', 678, 55.99)\n"
     ]
    }
   ],
   "source": [
    "# Answer 5\n",
    "# tuple data type is a which contain in the ordered and unchangeable or innmatuable elements.It's starts with ().\n",
    "\n",
    "SSSS=(\"ramaaaaa\",678,55.99)\n",
    "#SSSS.append(False)change deemed mean puting new elemnts is not possible.\n",
    "print(SSSS)\n"
   ]
  },
  {
   "cell_type": "code",
   "execution_count": 23,
   "id": "2da590f9-8678-4f88-888e-a81f95cd5f2d",
   "metadata": {},
   "outputs": [
    {
     "name": "stdout",
     "output_type": "stream",
     "text": [
      "[1, 2, 3, 'RAJA RAGHUPATI RAGHAV RAJA RAM', 'hello world']\n",
      "{1, 3, 4, 5, 50}\n",
      "{'hello': 'night'}\n"
     ]
    },
    {
     "ename": "TypeError",
     "evalue": "'tuple' object does not support item assignment",
     "output_type": "error",
     "traceback": [
      "\u001b[1;31m---------------------------------------------------------------------------\u001b[0m",
      "\u001b[1;31mTypeError\u001b[0m                                 Traceback (most recent call last)",
      "Cell \u001b[1;32mIn[23], line 21\u001b[0m\n\u001b[0;32m     19\u001b[0m \u001b[38;5;66;03m#Tuple and String data type are IMMUTABLE ARGUMENTS\u001b[39;00m\n\u001b[0;32m     20\u001b[0m my_tuple\u001b[38;5;241m=\u001b[39m(\u001b[38;5;241m1\u001b[39m,\u001b[38;5;241m2\u001b[39m,\u001b[38;5;241m3\u001b[39m,\u001b[38;5;28;01mTrue\u001b[39;00m,\u001b[38;5;124m\"\u001b[39m\u001b[38;5;124mhello world\u001b[39m\u001b[38;5;124m\"\u001b[39m)\n\u001b[1;32m---> 21\u001b[0m my_tuple[\u001b[38;5;241m2\u001b[39m]\u001b[38;5;241m=\u001b[39m\u001b[38;5;241m4\u001b[39m\n\u001b[0;32m     22\u001b[0m my_tuple[\u001b[38;5;241m3\u001b[39m]\u001b[38;5;241m=\u001b[39m\u001b[38;5;241m5\u001b[39m\n\u001b[0;32m     23\u001b[0m \u001b[38;5;28mprint\u001b[39m(my_tuple)\n",
      "\u001b[1;31mTypeError\u001b[0m: 'tuple' object does not support item assignment"
     ]
    }
   ],
   "source": [
    "# Answer 6\n",
    "# LIST,SET,DICTIONARY DATA TYPE WHICH CAN BE MUTABLE ARGUMENTS\n",
    "my_list=[1,2,3,True,\"hello world\"]\n",
    "my_list[3]=\"RAJA RAGHUPATI RAGHAV RAJA RAM\"\n",
    "print(my_list)\n",
    "\n",
    "my_set={1,2,3,4,5} # Sets are unordered :They do not support indexing or item assignment like list and string.\n",
    "my_set.add(50)\n",
    "my_set.remove(2)\n",
    "print(my_set)\n",
    "\n",
    "\n",
    "my_dictionary={\"hello\":\"world\",\"thanks\":\"world\"}\n",
    "my_dictionary[\"hello\"]=\"night\"\n",
    "my_dictionary.pop(\"thanks\")\n",
    "print(my_dictionary)\n",
    "\n",
    "\n",
    "#Tuple and String data type are IMMUTABLE ARGUMENTS\n",
    "my_tuple=(1,2,3,True,\"hello world\")\n",
    "my_tuple[2]=4\n",
    "my_tuple[3]=5\n",
    "print(my_tuple)\n",
    "\n",
    "\n",
    "\n",
    "my_str=\"Hello Ramswami\"\n",
    "my_str[2]=\"Y\"\n",
    "my_str[0]=\"R\"\n",
    "print(my_str)"
   ]
  },
  {
   "cell_type": "code",
   "execution_count": 57,
   "id": "0d45aba0-cca6-4a7d-a3ed-34e91816c807",
   "metadata": {},
   "outputs": [
    {
     "name": "stdin",
     "output_type": "stream",
     "text": [
      "enter the number 8\n",
      "enter the number 6\n"
     ]
    },
    {
     "name": "stdout",
     "output_type": "stream",
     "text": [
      "14\n",
      "2\n",
      "48\n",
      "1.3333333333333333\n"
     ]
    }
   ],
   "source": [
    "# Answer7\n",
    "\n",
    "WWW=int(input(\"enter the number\"))\n",
    "RRR=int(input(\"enter the number\"))\n",
    "Addition=WWW+RRR\n",
    "Subtraction=WWW-RRR\n",
    "Multiplication=WWW*RRR\n",
    "Division=WWW/RRR\n",
    "print(Addition)\n",
    "print(Subtraction)\n",
    "print(Multiplication)\n",
    "print(Division)"
   ]
  },
  {
   "cell_type": "code",
   "execution_count": 3,
   "id": "19207f1b-ff2d-45ce-a3c3-c212a8825a50",
   "metadata": {},
   "outputs": [
    {
     "name": "stdout",
     "output_type": "stream",
     "text": [
      "True\n",
      "False\n",
      "False\n",
      "False\n",
      "True\n",
      "True\n",
      "True\n",
      "False\n",
      "True\n"
     ]
    }
   ],
   "source": [
    "# Answer8\n",
    "#Logical operators are combines the condition and give the True and False.\n",
    "# contain three type \n",
    "# 1)and 2)or 3)not\n",
    "\n",
    "LLL=9000\n",
    "Kkk=10000\n",
    "print(LLL<10000 and Kkk>9000)\n",
    "print(LLL<10000 and Kkk<9000)\n",
    "print(LLL>10000 and Kkk>9000)\n",
    "print(LLL>10000 and Kkk<9000)\n",
    "print(LLL<10000 or Kkk>9000)\n",
    "print(LLL<10000 or Kkk<9000)\n",
    "print(LLL>10000 or Kkk>9000)\n",
    "print(LLL>10000 or Kkk<9000)\n",
    "print(not(LLL>10000 and Kkk<9000))\n"
   ]
  },
  {
   "cell_type": "code",
   "execution_count": 72,
   "id": "3269e73a-9e7d-4ad7-8a5b-3e7b77280c8a",
   "metadata": {},
   "outputs": [
    {
     "name": "stdin",
     "output_type": "stream",
     "text": [
      "enter the country India\n"
     ]
    },
    {
     "name": "stdout",
     "output_type": "stream",
     "text": [
      "<class 'bool'>\n"
     ]
    }
   ],
   "source": [
    "# Answer=9\n",
    "\n",
    "C=input(\"enter the country\")\n",
    "O=bool(C)\n",
    "print(type(O))\n",
    "#H=float(C) it can't possible because string can't convert into float.\n",
    "#G=int(C)it cann't posssible because string can't convert into integer.But there's an exception ,when we write  any numerical value will double quote.It will execute <class 'int'>."
   ]
  },
  {
   "cell_type": "code",
   "execution_count": 123,
   "id": "bfe7e1c8-0c34-4a40-abdc-243b20f49756",
   "metadata": {},
   "outputs": [
    {
     "name": "stdout",
     "output_type": "stream",
     "text": [
      "<class 'str'>\n",
      "<class 'bool'>\n"
     ]
    }
   ],
   "source": [
    "# Type casting is the conversion of variable of one data type to another data type.\n",
    "\"\"\"\n",
    "int()\n",
    "float()\n",
    "str()\n",
    "bool()\n",
    "complex()\n",
    "\n",
    "\"\"\"\n",
    "my_list=[\"hey come and get some\",666655]\n",
    "D=str(my_list)\n",
    "G=bool(my_list)\n",
    "print(type(D))\n",
    "print(type(G))\n",
    "\n",
    "\n",
    "# In the case of int(),the argument must be a string,a bytes-like object or a real number,not 'list'.\n",
    "# In the case of float(),the argument must be a string, a bytes-like object or a real number, not 'list'.\n",
    "#  In the case of complex() first argument must be a string or a number,not 'ist\n"
   ]
  },
  {
   "cell_type": "code",
   "execution_count": 4,
   "id": "660a8a09-d016-4ceb-8515-33c867d7f3a7",
   "metadata": {},
   "outputs": [
    {
     "name": "stdin",
     "output_type": "stream",
     "text": [
      "enter the number: 100\n"
     ]
    },
    {
     "name": "stdout",
     "output_type": "stream",
     "text": [
      "the positive number\n"
     ]
    }
   ],
   "source": [
    "# Answer11\n",
    "num=int(input(\"enter the number:\"))\n",
    "if num>0:\n",
    "    print(\"the positive number\")\n",
    "elif num<0:\n",
    "    print(\"the negative number\")\n",
    "else:\n",
    "    print(\"the zero number\")"
   ]
  },
  {
   "cell_type": "code",
   "execution_count": 1,
   "id": "b68b2273-f9ce-4430-8571-95523b0543b0",
   "metadata": {},
   "outputs": [
    {
     "name": "stdout",
     "output_type": "stream",
     "text": [
      "0\n",
      "1\n",
      "2\n",
      "3\n",
      "4\n",
      "5\n",
      "6\n",
      "7\n",
      "8\n",
      "9\n",
      "10\n"
     ]
    }
   ],
   "source": [
    "# for loop for the print numbers from1 to 10.\n",
    "for m in range(0,11):\n",
    "    print(m)\n",
    "\n",
    "\n",
    "\n"
   ]
  },
  {
   "cell_type": "code",
   "execution_count": 8,
   "id": "8fcb8cf2-626a-45b9-99c1-7ee9d7b039b8",
   "metadata": {},
   "outputs": [
    {
     "name": "stdin",
     "output_type": "stream",
     "text": [
      "enter the number 6\n",
      "enter the number 8\n",
      "enter the number 9\n",
      "enter the number 3\n",
      "enter the number 5\n"
     ]
    },
    {
     "name": "stdout",
     "output_type": "stream",
     "text": [
      "the sum of even number\n"
     ]
    }
   ],
   "source": [
    "# Answer13\n",
    "num1=int(input(\"enter the number\"))\n",
    "num2=int(input(\"enter the number\"))\n",
    "num3=int(input(\"enter the number\"))\n",
    "num4=int(input(\"enter the number\"))\n",
    "num5=int(input(\"enter the number\"))\n",
    "sum=num1+num2+num3+num4+num5\n",
    "if sum>1 and sum<50:\n",
    "   print(\"the sum of even number:\")\n",
    "else:\n",
    "   print(\"sum of no even number:\")"
   ]
  },
  {
   "cell_type": "code",
   "execution_count": 16,
   "id": "c99dcb9b-d155-4710-932b-12c404100a25",
   "metadata": {},
   "outputs": [
    {
     "name": "stdout",
     "output_type": "stream",
     "text": [
      "uhtanakkuM dasarP kayaniV\n"
     ]
    }
   ],
   "source": [
    "# anser=14\n",
    "word=\"Vinayak Prasad Mukkanathu\"\n",
    "i=len(word)-1\n",
    "reverse=\"\"\n",
    "while i>=0:\n",
    "      reverse=reverse+word[i]\n",
    "      i=i-1\n",
    "print(reverse)\n"
   ]
  },
  {
   "cell_type": "code",
   "execution_count": 9,
   "id": "296741a0-67a7-48f6-be65-6a7bb0737d08",
   "metadata": {},
   "outputs": [
    {
     "name": "stdin",
     "output_type": "stream",
     "text": [
      "enter the number: 8\n"
     ]
    },
    {
     "name": "stdout",
     "output_type": "stream",
     "text": [
      "8\n",
      "7\n",
      "6\n",
      "5\n",
      "4\n",
      "3\n",
      "2\n",
      "1\n"
     ]
    }
   ],
   "source": [
    "number=int(input(\"enter the number:\") )\n",
    "factorial=1\n",
    "while number>0:\n",
    "    factorial=number*1\n",
    "    number=number-1\n",
    "    print(factorial)"
   ]
  },
  {
   "cell_type": "code",
   "execution_count": null,
   "id": "0bb892c2-0d45-479a-a3fb-62b712a85a6d",
   "metadata": {},
   "outputs": [],
   "source": []
  }
 ],
 "metadata": {
  "kernelspec": {
   "display_name": "Python 3 (ipykernel)",
   "language": "python",
   "name": "python3"
  },
  "language_info": {
   "codemirror_mode": {
    "name": "ipython",
    "version": 3
   },
   "file_extension": ".py",
   "mimetype": "text/x-python",
   "name": "python",
   "nbconvert_exporter": "python",
   "pygments_lexer": "ipython3",
   "version": "3.13.5"
  }
 },
 "nbformat": 4,
 "nbformat_minor": 5
}
